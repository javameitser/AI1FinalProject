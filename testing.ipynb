{
 "cells": [
  {
   "cell_type": "code",
   "execution_count": 12,
   "id": "693872bf-4211-41db-8a0a-bc8336f76a84",
   "metadata": {},
   "outputs": [],
   "source": [
    "import pandas as pd\n",
    "import numpy as np\n",
    "import matplotlib.pyplot as plt\n",
    "from sklearn.ensemble import RandomForestClassifier\n",
    "from sklearn.model_selection import train_test_split\n",
    "from sklearn.linear_model import LogisticRegression\n",
    "from sklearn.metrics import mean_squared_error\n",
    "from sklearn.tree import plot_tree\n",
    "from sklearn.model_selection import train_test_split\n",
    "from sklearn.preprocessing import StandardScaler\n",
    "from sklearn.decomposition import PCA\n",
    "from sklearn.linear_model import Ridge\n",
    "from sklearn.linear_model import LinearRegression\n",
    "from sklearn.linear_model import Lasso\n",
    "import seaborn as sns\n"
   ]
  },
  {
   "cell_type": "code",
   "execution_count": 13,
   "id": "db8474ab-9f89-418d-a379-8b42804de625",
   "metadata": {},
   "outputs": [
    {
     "name": "stdout",
     "output_type": "stream",
     "text": [
      "0.76125\n",
      "0.50375\n",
      "1\n",
      "0.818125\n",
      "0.50375\n",
      "2\n",
      "0.934375\n",
      "0.843125\n",
      "3\n",
      "0.953125\n",
      "0.865\n",
      "4\n",
      "0.953125\n",
      "0.865625\n",
      "5\n",
      "0.961875\n",
      "0.874375\n",
      "6\n"
     ]
    }
   ],
   "source": [
    "df = pd.read_csv(\"banana_quality.csv\")\n",
    "y = df[\"Quality\"]\n",
    "x = df.drop(columns = [\"Quality\"])\n",
    "scaler = StandardScaler()\n",
    "\n",
    "for i in range(1,7):\n",
    "    y = df[\"Quality\"]\n",
    "    x = df.drop(columns = [\"Quality\"])\n",
    "    x_scaled = scaler.fit_transform(x)\n",
    "    pca = PCA(n_components = i)\n",
    "    \n",
    "    x_pca = pca.fit_transform(x_scaled)\n",
    "\n",
    "    \n",
    "    x_train, x_test, y_train, y_test = train_test_split(x_pca,y,test_size = 0.2, random_state = 0)\n",
    "    \n",
    "    rft = RandomForestClassifier(n_estimators = 3)\n",
    "    lrc = LogisticRegression(random_state = 0, max_iter = 10000, tol = 0.1)\n",
    "\n",
    "    \n",
    "    rft.fit(x_train,y_train)\n",
    "    lrc.fit(x_train,y_train)\n",
    "    \n",
    "    print(rft.score(x_test,y_test))\n",
    "    \n",
    "    print(lrc.score(x_test,y_test))\n",
    "    print(i)"
   ]
  },
  {
   "cell_type": "code",
   "execution_count": 14,
   "id": "e598a15b-7a08-4bb2-9fe8-81b51aab98a7",
   "metadata": {},
   "outputs": [
    {
     "name": "stderr",
     "output_type": "stream",
     "text": [
      "/tmp/ipykernel_2291/1697442051.py:5: FutureWarning: Downcasting behavior in `replace` is deprecated and will be removed in a future version. To retain the old behavior, explicitly call `result.infer_objects(copy=False)`. To opt-in to the future behavior, set `pd.set_option('future.no_silent_downcasting', True)`\n",
      "  df = df.replace({True:1, False : 0})\n"
     ]
    }
   ],
   "source": [
    "df = pd.read_csv(\"paris_weekdays.csv\")\n",
    "y = df[\"realSum\"]\n",
    "x = df.drop(columns = [\"realSum\"])\n",
    "\n",
    "df = df.replace({True:1, False : 0})\n",
    "\n",
    "df = pd.get_dummies(df,columns = ['room_type'])"
   ]
  },
  {
   "cell_type": "code",
   "execution_count": 16,
   "id": "305b0147-c385-4374-948f-d365749d53fa",
   "metadata": {},
   "outputs": [
    {
     "name": "stdout",
     "output_type": "stream",
     "text": [
      "28063.726964953603\n",
      "27893.751554017483\n",
      "28038.653680436706\n",
      "0.4210163750446856\n",
      "0.4245231430409665\n",
      "0.4215336627583688\n",
      "21\n"
     ]
    }
   ],
   "source": [
    "scaler = StandardScaler()\n",
    "lasso = Lasso()\n",
    "lr = LinearRegression()\n",
    "rr = Ridge()\n",
    "\n",
    "\n",
    "for i in range(21,22):\n",
    "    y = df[\"realSum\"]\n",
    "    x = df.drop(columns = [\"realSum\"])\n",
    "    x_scaled = scaler.fit_transform(x)\n",
    "    pca = PCA(n_components = i)\n",
    "    x_pca = pca.fit_transform(x_scaled)\n",
    "    \n",
    "    x_train, x_test, y_train, y_test = train_test_split(x_pca,y,test_size = 0.2, random_state = 0)\n",
    "    lasso.fit(x_train,y_train)\n",
    "    lr.fit(x_train,y_train)\n",
    "    rr.fit(x_train,y_train)\n",
    "\n",
    "\n",
    "    lr_pred = lr.predict(x_test)\n",
    "    lasso_pred = lasso.predict(x_test)\n",
    "    rr_pred = rr.predict(x_test)\n",
    "\n",
    "    print(mean_squared_error(y_test,lr_pred))\n",
    "    print(mean_squared_error(y_test,lasso_pred))\n",
    "    print(mean_squared_error(y_test,rr_pred))\n",
    "\n",
    "    print(lr.score(x_test,y_test))\n",
    "    print(lasso.score(x_test,y_test))\n",
    "    print(rr.score(x_test,y_test))\n",
    "\n",
    "\n",
    "    \n",
    "    print(i)"
   ]
  },
  {
   "cell_type": "code",
   "execution_count": 7,
   "id": "af485e0a-80d7-454e-9c98-99ff01d14b81",
   "metadata": {},
   "outputs": [
    {
     "name": "stderr",
     "output_type": "stream",
     "text": [
      "/tmp/ipykernel_2291/1070961288.py:6: FutureWarning: Downcasting behavior in `replace` is deprecated and will be removed in a future version. To retain the old behavior, explicitly call `result.infer_objects(copy=False)`. To opt-in to the future behavior, set `pd.set_option('future.no_silent_downcasting', True)`\n",
      "  df = df.replace({True:1, False : 0})\n"
     ]
    }
   ],
   "source": [
    "\n",
    "#preprocessing\n",
    "df = pd.read_csv(\"paris_weekdays.csv\")\n",
    "y = df[\"realSum\"]\n",
    "x = df.drop(columns = [\"realSum\"])\n",
    "\n",
    "df = df.replace({True:1, False : 0})\n",
    "\n",
    "df = pd.get_dummies(df,columns = ['room_type'])\n",
    "\n",
    "scaler = StandardScaler()\n",
    "\n",
    "lr = LinearRegression()\n",
    "rr = Ridge()\n",
    "\n",
    "y = df[\"realSum\"]\n",
    "x = df.drop(columns = [\"realSum\"])\n",
    "x_scaled = scaler.fit_transform(x)"
   ]
  },
  {
   "cell_type": "code",
   "execution_count": 8,
   "id": "05ff6f64-c1e0-402b-9689-a09b4f11e4f3",
   "metadata": {},
   "outputs": [
    {
     "name": "stdout",
     "output_type": "stream",
     "text": [
      "0.29427596704896997\n",
      "0.42486079603051274\n",
      "0.4215336627583688\n"
     ]
    }
   ],
   "source": [
    "x_train, x_test, y_train, y_test = train_test_split(x_scaled,y,test_size = 0.2, random_state = 0)\n",
    "    \n",
    "lr.fit(x_train,y_train)\n",
    "rr.fit(x_train,y_train)\n",
    "lasso.fit(x_train,y_train)\n",
    "\n",
    "print(lr.score(x_test,y_test))\n",
    "print(lasso.score(x_test,y_test))\n",
    "print(rr.score(x_test,y_test))\n",
    "\n"
   ]
  },
  {
   "cell_type": "code",
   "execution_count": null,
   "id": "e2b50a20-b029-4b48-b231-d371691787f2",
   "metadata": {},
   "outputs": [],
   "source": []
  },
  {
   "cell_type": "code",
   "execution_count": null,
   "id": "e385d417-d005-43ff-b31d-c870df704c7b",
   "metadata": {},
   "outputs": [],
   "source": []
  },
  {
   "cell_type": "code",
   "execution_count": null,
   "id": "1c4f93a6-1aad-4937-ab50-e3684f677413",
   "metadata": {},
   "outputs": [],
   "source": []
  }
 ],
 "metadata": {
  "kernelspec": {
   "display_name": "Python 3 (ipykernel)",
   "language": "python",
   "name": "python3"
  },
  "language_info": {
   "codemirror_mode": {
    "name": "ipython",
    "version": 3
   },
   "file_extension": ".py",
   "mimetype": "text/x-python",
   "name": "python",
   "nbconvert_exporter": "python",
   "pygments_lexer": "ipython3",
   "version": "3.10.6"
  }
 },
 "nbformat": 4,
 "nbformat_minor": 5
}
